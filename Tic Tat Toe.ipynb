{
 "cells": [
  {
   "cell_type": "code",
   "execution_count": 1,
   "metadata": {
    "collapsed": true
   },
   "outputs": [],
   "source": [
    "from IPython.display import clear_output"
   ]
  },
  {
   "cell_type": "code",
   "execution_count": 2,
   "metadata": {
    "collapsed": true
   },
   "outputs": [],
   "source": [
    "board = [\"\",\"\",\"\",\"\",\"\",\"\",\"\",\"\",\"\",\"\"]"
   ]
  },
  {
   "cell_type": "code",
   "execution_count": 3,
   "metadata": {
    "collapsed": true
   },
   "outputs": [],
   "source": [
    "def game(board):\n",
    "    print board[7] + \"\\t|\\t\" + board[8] +  \"\\t|\\t\" + board[9]\n",
    "    print \"-  -  -  -  -  -  -  -  -  -  -  -  \"\n",
    "    print board[4] + \"\\t|\\t\" + board[5] +  \"\\t|\\t\" + board[6]\n",
    "    print \"-  -  -  -  -  -  -  -  -  -  -  -  \"\n",
    "    print board[1] + \"\\t|\\t\" + board[2] +  \"\\t|\\t\" + board[3]"
   ]
  },
  {
   "cell_type": "code",
   "execution_count": 4,
   "metadata": {
    "collapsed": true
   },
   "outputs": [],
   "source": [
    "def reset():\n",
    "        global x, l, board, z, restart\n",
    "        x = 1\n",
    "        l = []\n",
    "        board = [\"\",\"\",\"\",\"\",\"\",\"\",\"\",\"\",\"\",\"\"]\n",
    "        z = 0\n",
    "        restart = \"\"\n",
    "def check(board, z, x):\n",
    "    if board[7].isalnum() and board[7] == board[8] == board[9]:\n",
    "        print \"Player\", x, \"wins!\"\n",
    "        reset()\n",
    "        return raw_input(\"Do you want to restart game? Y/N \")\n",
    "    elif board[4].isalnum() and board[4] == board[5] == board[6]:\n",
    "        print \"Player\", x, \"wins!\"\n",
    "        reset()\n",
    "        return raw_input(\"Do you want to restart game? Y/N \")\n",
    "    elif board[1].isalnum() and board[1] == board[2] == board[3]:\n",
    "        print \"Player\", x, \"wins!\"\n",
    "        reset()\n",
    "        return raw_input(\"Do you want to restart game? Y/N \")\n",
    "    elif board[7].isalnum() and board[7] == board[4] == board[1]:\n",
    "        print \"Player\", x, \"wins!\"\n",
    "        reset()\n",
    "        return raw_input(\"Do you want to restart game? Y/N \")\n",
    "    elif board[5].isalnum() and board[8] == board[5] == board[2]:\n",
    "        print \"Player\", x, \"wins!\"\n",
    "        reset()\n",
    "        return raw_input(\"Do you want to restart game? Y/N \")\n",
    "    elif board[3].isalnum() and board[9] == board[6] == board[3]:\n",
    "        print \"Player\", x, \"wins!\"\n",
    "        reset()\n",
    "        return raw_input(\"Do you want to restart game? Y/N \")\n",
    "    elif board[5].isalnum() and board[1] == board[5] == board[9]:\n",
    "        print \"Player\", x, \"wins!\"\n",
    "        reset()\n",
    "        return raw_input(\"Do you want to restart game? Y/N \")\n",
    "    elif board[5].isalnum() and board[3] == board[5] == board[7]:\n",
    "        print \"Player\", x, \"wins!\"\n",
    "        reset()\n",
    "        return raw_input(\"Do you want to restart game? Y/N \")\n",
    "    elif z == 9:\n",
    "        print \"Draw!\"\n",
    "        reset()\n",
    "        return raw_input(\"Do you want to restart game? Y/N \")"
   ]
  },
  {
   "cell_type": "code",
   "execution_count": 5,
   "metadata": {},
   "outputs": [],
   "source": [
    "def start(y):\n",
    "    global x, l, board, z, restart\n",
    "    x = 1\n",
    "    l = []\n",
    "    board = [\"\",\"\",\"\",\"\",\"\",\"\",\"\",\"\",\"\",\"\"]\n",
    "    z = 0\n",
    "    restart = \"\"\n",
    "    while y != \"N\":\n",
    "        game_input = input(\"Which position?\")\n",
    "        l.append(game_input)\n",
    "        z += 1\n",
    "        if l.count(game_input) > 1:\n",
    "            game_input = input(\"Position taken. Please choose another\")\n",
    "        elif game_input <= 0 or game_input > 9:\n",
    "            game_input = input(\"Invalid input. Please choose between 1 to 9\")\n",
    "        if x == 1:\n",
    "            board[game_input] = \"X\"\n",
    "            clear_output()\n",
    "            game(board)\n",
    "            y = check(board,z,x)\n",
    "            x = 2\n",
    "        elif x == 2:\n",
    "            board[game_input] = \"O\"\n",
    "            clear_output()\n",
    "            game(board)\n",
    "            y = check(board,z,x)\n",
    "            x = 1"
   ]
  },
  {
   "cell_type": "code",
   "execution_count": 6,
   "metadata": {},
   "outputs": [
    {
     "name": "stdout",
     "output_type": "stream",
     "text": [
      "X\t|\tO\t|\tO\n",
      "-  -  -  -  -  -  -  -  -  -  -  -  \n",
      "\t|\tX\t|\t\n",
      "-  -  -  -  -  -  -  -  -  -  -  -  \n",
      "O\t|\tX\t|\tX\n",
      "Player 1 wins!\n",
      "Do you want to restart game? Y/N N\n"
     ]
    }
   ],
   "source": [
    "y = raw_input(\"Do you want to start game? Y/N \")\n",
    "if y == \"Y\":\n",
    "    start(y)\n",
    "elif y != \"N\":\n",
    "    y = raw_input(\"Invalid Response. Do you want to start game? Y/N \")\n",
    "    start(y)"
   ]
  },
  {
   "cell_type": "code",
   "execution_count": null,
   "metadata": {
    "collapsed": true
   },
   "outputs": [],
   "source": []
  },
  {
   "cell_type": "code",
   "execution_count": null,
   "metadata": {
    "collapsed": true
   },
   "outputs": [],
   "source": []
  }
 ],
 "metadata": {
  "kernelspec": {
   "display_name": "Python 2",
   "language": "python",
   "name": "python2"
  },
  "language_info": {
   "codemirror_mode": {
    "name": "ipython",
    "version": 2
   },
   "file_extension": ".py",
   "mimetype": "text/x-python",
   "name": "python",
   "nbconvert_exporter": "python",
   "pygments_lexer": "ipython2",
   "version": "2.7.13"
  }
 },
 "nbformat": 4,
 "nbformat_minor": 2
}
